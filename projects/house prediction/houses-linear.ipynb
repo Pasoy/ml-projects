{
 "cells": [
  {
   "cell_type": "code",
   "execution_count": 2,
   "metadata": {},
   "outputs": [
    {
     "name": "stdout",
     "output_type": "stream",
     "text": [
      "Model training results:\n",
      " - Training Set Error: 9094.663590299358\n",
      " - Test Set Error: 9085.59162641494\n"
     ]
    }
   ],
   "source": [
    "import pandas as pd\n",
    "import joblib\n",
    "from sklearn.model_selection import train_test_split\n",
    "from sklearn.linear_model import LinearRegression\n",
    "from sklearn.metrics import mean_absolute_error\n",
    "\n",
    "# Load data set\n",
    "df = pd.read_csv(\"house_data.csv\")\n",
    "\n",
    "# X is the table that has all the input features that the model will use to make predictions\n",
    "# Y has the matching expected output for each row of training data in the X table\n",
    "# Create the X and y arrays\n",
    "x = df[[\"sq_feet\", \"num_bedrooms\", \"num_bathrooms\"]]\n",
    "y = df[\"sale_price\"]\n",
    "\n",
    "# Split the data set in a training set (75%) and test set (25%)\n",
    "x_train, x_test, y_train, y_test = train_test_split(x, y, test_size=0.25)\n",
    "\n",
    "# Create the Linear Regression model\n",
    "model = LinearRegression()\n",
    "\n",
    "# Train the model\n",
    "model.fit(x_train, y_train)\n",
    "\n",
    "# Save the trained model\n",
    "joblib.dump(model, 'house_value_model.pkl')\n",
    "\n",
    "print(\"Model training results:\")\n",
    "\n",
    "# Error rate on the training set\n",
    "mse_train = mean_absolute_error(y_train, model.predict(x_train))\n",
    "print(f\" - Training Set Error: {mse_train}\")\n",
    "\n",
    "# Error rate on the test set\n",
    "mse_test = mean_absolute_error(y_test, model.predict(x_test))\n",
    "print(f\" - Test Set Error: {mse_test}\")"
   ]
  },
  {
   "cell_type": "code",
   "execution_count": 3,
   "metadata": {},
   "outputs": [
    {
     "name": "stdout",
     "output_type": "stream",
     "text": [
      "House details:\n",
      "- 500 sq feet\n",
      "- 3 bedrooms\n",
      "- 2 bathrooms\n",
      "Estimated value: $148,615.27\n"
     ]
    }
   ],
   "source": [
    "# Load trained model\n",
    "model = joblib.load('house_value_model.pkl')\n",
    "\n",
    "# Define the house that we want to value\n",
    "house_1 = [\n",
    "    500,  # Size in Square Feet\n",
    "    3,  # Number of Bedrooms\n",
    "    2,  # Number of Bathrooms\n",
    "]\n",
    "\n",
    "# scikit-learn assumes you want to predict the values for multiple of houses at once, so it expects an array\n",
    "# Want to estimate the value of a single house, so only one item in the array\n",
    "homes = [\n",
    "    house_1\n",
    "]\n",
    "\n",
    "# Make a prediction\n",
    "home_values = model.predict(homes)\n",
    "\n",
    "# Save predicted value\n",
    "predicted_value = home_values[0]\n",
    "\n",
    "# Print the results\n",
    "print(\"House details:\")\n",
    "print(f\"- {house_1[0]} sq feet\")\n",
    "print(f\"- {house_1[1]} bedrooms\")\n",
    "print(f\"- {house_1[2]} bathrooms\")\n",
    "print(f\"Estimated value: ${predicted_value:,.2f}\")"
   ]
  },
  {
   "cell_type": "code",
   "execution_count": null,
   "metadata": {},
   "outputs": [],
   "source": []
  }
 ],
 "metadata": {
  "kernelspec": {
   "display_name": "Python 3",
   "language": "python",
   "name": "python3"
  },
  "language_info": {
   "codemirror_mode": {
    "name": "ipython",
    "version": 3
   },
   "file_extension": ".py",
   "mimetype": "text/x-python",
   "name": "python",
   "nbconvert_exporter": "python",
   "pygments_lexer": "ipython3",
   "version": "3.7.5"
  }
 },
 "nbformat": 4,
 "nbformat_minor": 4
}
