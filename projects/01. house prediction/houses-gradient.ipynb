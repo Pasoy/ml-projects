{
 "cells": [
  {
   "cell_type": "code",
   "execution_count": 2,
   "metadata": {},
   "outputs": [
    {
     "name": "stdout",
     "output_type": "stream",
     "text": [
      "Model training results:\n",
      " - Training Set Error: 8916.857767790521\n",
      " - Test Set Error: 9187.58175070604\n"
     ]
    }
   ],
   "source": [
    "import pandas as pd\n",
    "from sklearn.model_selection import train_test_split\n",
    "from sklearn.ensemble import GradientBoostingRegressor\n",
    "from sklearn.metrics import mean_absolute_error\n",
    "from sklearn.externals import joblib\n",
    "\n",
    "# Load data set\n",
    "df = pd.read_csv(\"house_data.csv\")\n",
    "\n",
    "# Create the X and y arrays\n",
    "x = df[[\"sq_feet\", \"num_bedrooms\", \"num_bathrooms\"]]\n",
    "y = df[\"sale_price\"]\n",
    "\n",
    "# Split the data set in a training set (75%) and a test set (25%)\n",
    "x_train, x_test, y_train, y_test = train_test_split(x, y, test_size=0.25)\n",
    "\n",
    "# Create the Linear Regression model\n",
    "model = GradientBoostingRegressor()\n",
    "\n",
    "# Train the model\n",
    "model.fit(x_train, y_train)\n",
    "\n",
    "# Save the trained model\n",
    "joblib.dump(model, 'house_value_model.pkl')\n",
    "\n",
    "print(\"Model training results:\")\n",
    "\n",
    "# Error rate on the training set\n",
    "mse_train = mean_absolute_error(y_train, model.predict(x_train))\n",
    "print(f\" - Training Set Error: {mse_train}\")\n",
    "\n",
    "# Error rate on the test set\n",
    "mse_test = mean_absolute_error(y_test, model.predict(x_test))\n",
    "print(f\" - Test Set Error: {mse_test}\")"
   ]
  },
  {
   "cell_type": "code",
   "execution_count": null,
   "metadata": {},
   "outputs": [],
   "source": []
  }
 ],
 "metadata": {
  "kernelspec": {
   "display_name": "Python 3",
   "language": "python",
   "name": "python3"
  },
  "language_info": {
   "codemirror_mode": {
    "name": "ipython",
    "version": 3
   },
   "file_extension": ".py",
   "mimetype": "text/x-python",
   "name": "python",
   "nbconvert_exporter": "python",
   "pygments_lexer": "ipython3",
   "version": "3.7.5"
  }
 },
 "nbformat": 4,
 "nbformat_minor": 4
}
