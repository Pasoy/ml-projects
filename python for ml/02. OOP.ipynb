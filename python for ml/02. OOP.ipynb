{
 "cells": [
  {
   "cell_type": "markdown",
   "metadata": {},
   "source": [
    "## What is OOP?\n",
    "for example:\n",
    "* We have a class `Person`\n",
    "* **Attribute**: `name, age, colour`\n",
    "* **Behaviour**: `programming, singing`\n",
    "\n",
    "### Basic Prinicples of OOPS:\n",
    "* **Class**\n",
    "* **Object**\n",
    "* **Inheritance**\n",
    "* **Encapsulation**\n",
    "* **Polymorphism**\n",
    "\n",
    "## What are Objects and Classes?\n",
    "* Object is the basic unit of object-oriented programming\n",
    "* An object represents a particular instance of a class\n",
    "* There can be more than one instance of an object\n",
    "* Each instance of an object can hold its own relevant data\n",
    "* Objects with similar properties and methods are grouped together to form a class\n",
    "\n",
    "### Create a Class in Python\n",
    "```python\n",
    "class NameOfClass:\n",
    "    #code\n",
    "    \n",
    "    def func(self):\n",
    "        print(\"Something\")\n",
    "```\n",
    "\n",
    "### Create an Object in Python\n",
    "```python\n",
    "ObjectName = NameOfClass()\n",
    "```\n",
    "\n",
    "### Access Class\n",
    "```python\n",
    "obj1 = ClassName()\n",
    "obj1.func()\n",
    "```\n",
    "\n",
    "### Init\n",
    "* `__init__` is a special method in Python classes\n",
    "* Is a constructor method for a class\n",
    "* `__init__` is called whenever an object of the class is constructed"
   ]
  },
  {
   "cell_type": "code",
   "execution_count": 1,
   "metadata": {},
   "outputs": [],
   "source": [
    "class Student:\n",
    "    def __init__(self, name, branch, year):\n",
    "        self.n = name\n",
    "        self.b = branch\n",
    "        self.y = year\n",
    "    def print_method(self):\n",
    "        print(\"Name: \", self.n)\n",
    "        print(\"Branch: \", self.b)\n",
    "        print(\"Year: \", self.y)"
   ]
  },
  {
   "cell_type": "code",
   "execution_count": 2,
   "metadata": {},
   "outputs": [
    {
     "name": "stdout",
     "output_type": "stream",
     "text": [
      "Name:  Pascal\n",
      "Branch:  HIF\n",
      "Year:  2020\n"
     ]
    }
   ],
   "source": [
    "obj1 = Student(\"Pascal\", \"HIF\", \"2020\")\n",
    "\n",
    "obj1.print_method()"
   ]
  },
  {
   "cell_type": "markdown",
   "metadata": {},
   "source": [
    "## Inheritance in Python\n",
    "* **Single Inheritance**\n",
    "    * single class inherits from a class"
   ]
  },
  {
   "cell_type": "code",
   "execution_count": 3,
   "metadata": {},
   "outputs": [],
   "source": [
    "class Instrument:\n",
    "    def __init__(self):\n",
    "        print(\"I'm an instrument\")\n",
    "class Piano(Instrument):\n",
    "    def __init__(self):\n",
    "        super().__init__()\n",
    "        print(\"I'm a piano\")"
   ]
  },
  {
   "cell_type": "markdown",
   "metadata": {},
   "source": [
    "* **Multiple Inheritance**\n",
    "    * a class inherits from multiple classes"
   ]
  },
  {
   "cell_type": "code",
   "execution_count": 4,
   "metadata": {},
   "outputs": [
    {
     "data": {
      "text/plain": [
       "True"
      ]
     },
     "execution_count": 4,
     "metadata": {},
     "output_type": "execute_result"
    }
   ],
   "source": [
    "class A:\n",
    "    pass\n",
    "class B:\n",
    "    pass\n",
    "class C(A,B):\n",
    "    pass\n",
    "\n",
    "issubclass(C,A) and issubclass(C,B)"
   ]
  },
  {
   "cell_type": "markdown",
   "metadata": {},
   "source": [
    "* **Multilevel Inerhitance**\n",
    "    * one class inherits from another, which in turn inherits from another"
   ]
  },
  {
   "cell_type": "code",
   "execution_count": 5,
   "metadata": {},
   "outputs": [
    {
     "data": {
      "text/plain": [
       "1"
      ]
     },
     "execution_count": 5,
     "metadata": {},
     "output_type": "execute_result"
    }
   ],
   "source": [
    "class A:\n",
    "    x = 1\n",
    "class B(A):\n",
    "    pass\n",
    "class C(B):\n",
    "    pass\n",
    "cobj = C()\n",
    "cobj.x"
   ]
  },
  {
   "cell_type": "markdown",
   "metadata": {},
   "source": [
    "* **Hierarchical Inheritance**\n",
    "    * more than one class inherits from a class"
   ]
  },
  {
   "cell_type": "code",
   "execution_count": 6,
   "metadata": {},
   "outputs": [
    {
     "data": {
      "text/plain": [
       "True"
      ]
     },
     "execution_count": 6,
     "metadata": {},
     "output_type": "execute_result"
    }
   ],
   "source": [
    "class A:\n",
    "    pass\n",
    "class B(A):\n",
    "    pass\n",
    "class C(A):\n",
    "    pass\n",
    "\n",
    "issubclass(B,A) and issubclass(C,A)"
   ]
  },
  {
   "cell_type": "markdown",
   "metadata": {},
   "source": [
    "* **Hybrid Inheritance**\n",
    "    * combination of any two kinds of inheritance"
   ]
  },
  {
   "cell_type": "code",
   "execution_count": 7,
   "metadata": {},
   "outputs": [
    {
     "data": {
      "text/plain": [
       "1"
      ]
     },
     "execution_count": 7,
     "metadata": {},
     "output_type": "execute_result"
    }
   ],
   "source": [
    "class A:\n",
    "    x=1\n",
    "class B(A):\n",
    "    pass\n",
    "class C(A):\n",
    "    pass\n",
    "class D(B,C):\n",
    "    pass\n",
    "\n",
    "dobj = D()\n",
    "dobj.x"
   ]
  },
  {
   "cell_type": "markdown",
   "metadata": {},
   "source": [
    "### Inheritance Super Function\n",
    "used to call a method from the parent class"
   ]
  },
  {
   "cell_type": "code",
   "execution_count": 8,
   "metadata": {},
   "outputs": [
    {
     "name": "stdout",
     "output_type": "stream",
     "text": [
      "Starting engine\n",
      "I have two wheels\n",
      "Stopping engine\n"
     ]
    }
   ],
   "source": [
    "class Vehicle:\n",
    "    def start(self):\n",
    "        print(\"Starting engine\")\n",
    "    def stop(self):\n",
    "        print(\"Stopping engine\")\n",
    "class TwoWheeler(Vehicle):\n",
    "    def say(self):\n",
    "        super().start()\n",
    "        print(\"I have two wheels\")\n",
    "        super().stop()\n",
    "\n",
    "Harley = TwoWheeler()\n",
    "Harley.say()"
   ]
  },
  {
   "cell_type": "markdown",
   "metadata": {},
   "source": [
    "### Overriding vs Overloading\n",
    "#### Overloading\n",
    "* used to call a method from the parent class"
   ]
  },
  {
   "cell_type": "code",
   "execution_count": 9,
   "metadata": {},
   "outputs": [
    {
     "name": "stdout",
     "output_type": "stream",
     "text": [
      "12\n",
      "20.4\n",
      "Hi We coo?\n"
     ]
    }
   ],
   "source": [
    "def add(instanceOf, *args):\n",
    "    if instanceOf == \"int\":\n",
    "        result = 0\n",
    "    if instanceOf == \"str\":\n",
    "        result = \"\"\n",
    "    if instanceOf == \"float\":\n",
    "        result = 0.0\n",
    "    for i in args:\n",
    "        result += i\n",
    "    return result\n",
    "print(add(\"int\", 3, 4, 5))\n",
    "print(add(\"int\", 3.1, 4.8, 5.3, 7.2))\n",
    "print(add(\"str\", \"Hi \", \"We coo?\"))"
   ]
  },
  {
   "cell_type": "markdown",
   "metadata": {},
   "source": [
    "#### Overloading\n",
    "* subclass may change the functionality of a Python method in the superclass"
   ]
  },
  {
   "cell_type": "code",
   "execution_count": 10,
   "metadata": {},
   "outputs": [
    {
     "name": "stdout",
     "output_type": "stream",
     "text": [
      "I am inside B\n",
      "I am inside A\n"
     ]
    }
   ],
   "source": [
    "class A:\n",
    "    def checkit(self):\n",
    "        print(\"I am inside A\")\n",
    "class B(A):\n",
    "    def checkit(self):\n",
    "        print(\"I am inside B\")\n",
    "ob1 = B()\n",
    "ob2 = A()\n",
    "ob1.checkit()\n",
    "ob2.checkit()"
   ]
  },
  {
   "cell_type": "markdown",
   "metadata": {},
   "source": [
    "## Encapsulation in Python\n",
    "### Abstraction + Data Hiding\n",
    "* **Abstraction** is showing essential features and hiding non-essential features to the user\n",
    "* `e.g.:` *While writing a mail you don't know how things are actually happening in the backend*\n",
    "\n",
    "### What is Encapsulation?\n",
    "* Wrapping up of data into a single unit\n",
    "* `e.g.:` *Multiple parts of cars encapsulate themselves together to form a single object that is `Car`*"
   ]
  },
  {
   "cell_type": "code",
   "execution_count": 11,
   "metadata": {},
   "outputs": [
    {
     "name": "stdout",
     "output_type": "stream",
     "text": [
      "Updating software\n",
      "driving\n"
     ]
    }
   ],
   "source": [
    "# private method\n",
    "class Car:\n",
    "    def __init__(self):\n",
    "        self.__updateSoftware()\n",
    "    def drive(self):\n",
    "        print(\"driving\")\n",
    "    def __updateSoftware(self):\n",
    "        print(\"Updating software\")\n",
    "\n",
    "redcar = Car()\n",
    "redcar.drive()\n",
    "#redcar.__updateSoftware() - not accessible from object"
   ]
  },
  {
   "cell_type": "markdown",
   "metadata": {},
   "source": [
    "### Access a private variable"
   ]
  },
  {
   "cell_type": "code",
   "execution_count": 12,
   "metadata": {},
   "outputs": [
    {
     "name": "stdout",
     "output_type": "stream",
     "text": [
      "driving. maxspeed  200\n",
      "driving. maxspeed  320\n"
     ]
    }
   ],
   "source": [
    "class Car:\n",
    "    __maxspeed = 0\n",
    "    __name = \"\"\n",
    "    def __init__(self):\n",
    "        self.__maxspeed = 200\n",
    "        self.__name = \"Supercar\"\n",
    "    def drive(self):\n",
    "        print(\"driving. maxspeed \", self.__maxspeed)\n",
    "    def setMaxSpeed(self, speed):\n",
    "        self.__maxspeed = speed\n",
    "\n",
    "redcar = Car()\n",
    "redcar.drive()\n",
    "redcar.__maxspeed = 10 # will not change variable because it is private\n",
    "redcar.setMaxSpeed(320)\n",
    "redcar.drive()"
   ]
  },
  {
   "cell_type": "markdown",
   "metadata": {},
   "source": [
    "## Polymorphism in Python"
   ]
  },
  {
   "cell_type": "code",
   "execution_count": 15,
   "metadata": {},
   "outputs": [],
   "source": [
    "# 2 different classes but 2 same methods\n",
    "class Shark():\n",
    "    def swim(self):\n",
    "        print(\"The shark is swimming\")\n",
    "    def bones(self):\n",
    "        print(\"The shark's skeleton is made of cartilage\")\n",
    "\n",
    "class Clownfish():\n",
    "    def swim(self):\n",
    "        print(\"The clownfish is swimming\")\n",
    "    def bones(self):\n",
    "        print(\"The clownfish's skeleton is made of bone\")"
   ]
  },
  {
   "cell_type": "code",
   "execution_count": 16,
   "metadata": {},
   "outputs": [
    {
     "name": "stdout",
     "output_type": "stream",
     "text": [
      "<bound method Shark.swim of <__main__.Shark object at 0x00000134EC1995C8>>\n",
      "<bound method Shark.bones of <__main__.Shark object at 0x00000134EC1995C8>>\n",
      "<bound method Clownfish.swim of <__main__.Clownfish object at 0x00000134EC199288>>\n",
      "<bound method Clownfish.bones of <__main__.Clownfish object at 0x00000134EC199288>>\n"
     ]
    }
   ],
   "source": [
    "S1 = Shark()\n",
    "C1 = Clownfish()\n",
    "for fishes in (S1,C1):\n",
    "    print(fishes.swim)\n",
    "    print(fishes.bones)"
   ]
  },
  {
   "cell_type": "code",
   "execution_count": 17,
   "metadata": {},
   "outputs": [
    {
     "name": "stdout",
     "output_type": "stream",
     "text": [
      "The shark is swimming\n",
      "The clownfish is swimming\n"
     ]
    }
   ],
   "source": [
    "def intheocean(fish):\n",
    "    fish.swim()\n",
    "intheocean(S1)\n",
    "intheocean(C1)"
   ]
  },
  {
   "cell_type": "code",
   "execution_count": null,
   "metadata": {},
   "outputs": [],
   "source": []
  }
 ],
 "metadata": {
  "kernelspec": {
   "display_name": "Python 3",
   "language": "python",
   "name": "python3"
  },
  "language_info": {
   "codemirror_mode": {
    "name": "ipython",
    "version": 3
   },
   "file_extension": ".py",
   "mimetype": "text/x-python",
   "name": "python",
   "nbconvert_exporter": "python",
   "pygments_lexer": "ipython3",
   "version": "3.7.6"
  }
 },
 "nbformat": 4,
 "nbformat_minor": 4
}
